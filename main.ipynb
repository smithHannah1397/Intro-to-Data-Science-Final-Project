{
 "cells": [
  {
   "cell_type": "code",
   "execution_count": null,
   "id": "f0e20ac3",
   "metadata": {},
   "outputs": [],
   "source": [
    "#Testing, testing!"
   ]
  }
 ],
 "metadata": {
  "kernelspec": {
   "display_name": "Python 3",
   "language": "python",
   "name": "python3"
  },
  "language_info": {
   "name": "python",
   "version": "3.13.1"
  }
 },
 "nbformat": 4,
 "nbformat_minor": 5
}
